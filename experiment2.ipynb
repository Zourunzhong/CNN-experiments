{
 "cells": [
  {
   "cell_type": "code",
   "execution_count": 1,
   "metadata": {
    "tags": []
   },
   "outputs": [
    {
     "output_type": "stream",
     "name": "stdout",
     "text": "C:\\Users\\zouru\\anaconda3\\envs\\tf-gpu\\python.exe\n"
    }
   ],
   "source": [
    "import sys\n",
    "print(sys.executable)"
   ]
  },
  {
   "cell_type": "code",
   "execution_count": 2,
   "metadata": {},
   "outputs": [],
   "source": [
    "import os\n",
    "import glob\n",
    "import numpy as np\n",
    "from skimage import io, color, exposure, transform\n",
    "from PIL import Image\n",
    "from os import listdir"
   ]
  },
  {
   "cell_type": "markdown",
   "metadata": {},
   "source": [
    "# Train set"
   ]
  },
  {
   "cell_type": "code",
   "execution_count": 29,
   "metadata": {
    "tags": []
   },
   "outputs": [
    {
     "output_type": "stream",
     "name": "stdout",
     "text": "rz white completed\n"
    }
   ],
   "source": [
    "pic_dir= r'new_zoom\\rz_pos5_white2'\n",
    "\n",
    "def mapper(lst,f):\n",
    "    return list(map(lambda x: f(x),lst))\n",
    "\n",
    "\n",
    "# set plugin = matplotlib'\n",
    "def preprocessimg(path):\n",
    "    img = io.imread(path,plugin='matplotlib')  \n",
    "    img = img/255\n",
    "    img = transform.resize(img,(64,114))\n",
    "    \n",
    "    # swap axes to make image from (224, 224, 3) to (3, 224, 224)\n",
    "    img = np.swapaxes(img, 0, 2)\n",
    "    img = np.swapaxes(img, 1, 2)\n",
    "    \n",
    "    return img\n",
    "\n",
    "\n",
    "\n",
    "all_img_paths = glob.glob(os.path.join(pic_dir, '*'))\n",
    "np.random.shuffle(all_img_paths)\n",
    "\n",
    "imgs=[]\n",
    "labels = []   #, not relevant here as no labels\n",
    "\n",
    "# file_names = []\n",
    "# for img_path in all_img_paths:\n",
    "#         img = preprocessimg(img_path)\n",
    "#         imgs.append(img)\n",
    "        \n",
    "#         # label assignment\n",
    "#         file_name= img_path.split('\\\\')[-1].replace('.jpg','')\n",
    "        \n",
    "#         file_names.append(file_name)\n",
    "        \n",
    "#         if int(file_name[1])>=5:\n",
    "#             labels.append(0)\n",
    "#         else:\n",
    "#             labels.append(1)\n",
    " \n",
    "# x = np.array(imgs, dtype='float32')\n",
    "# y = np.eye(2,dtype='uint8')[mapper(labels,int)]\n",
    "\n",
    "# print('rz_pos5')\n",
    "\n",
    "\n",
    "\n",
    "\n",
    "white_dir = 'new_zoom\\\\white'\n",
    "all_white_imgs = glob.glob(os.path.join(white_dir, '*'))\n",
    "\n",
    "# .extend()  &  .shuffle()  does not return anything does not require assignment\n",
    "all_white_imgs.extend(all_img_paths)\n",
    "np.random.shuffle(all_white_imgs)\n",
    "\n",
    "new_imgs=[]\n",
    "new_labels = []   #, not relevant here as no labels\n",
    "\n",
    "file_names = []\n",
    "for img_path in all_white_imgs:\n",
    "        img = preprocessimg(img_path)\n",
    "        imgs.append(img)\n",
    "        \n",
    "        # label assignment\n",
    "        file_name= img_path.split('\\\\')[-1].replace('.jpg','')\n",
    "        # file_names.append(file_name)\n",
    "        \n",
    "        if int(file_name[1])>=5:\n",
    "            labels.append(0)\n",
    "        else:\n",
    "            labels.append(1)\n",
    " \n",
    "x_comb = np.array(imgs, dtype='float32')\n",
    "\n",
    "#float_y = mapper(labels,int)\n",
    "y_comb = np.eye(2,dtype='uint8')[mapper(labels,int)]\n",
    "\n",
    "print('rz white completed')"
   ]
  },
  {
   "cell_type": "code",
   "execution_count": 31,
   "metadata": {},
   "outputs": [
    {
     "output_type": "execute_result",
     "data": {
      "text/plain": "((201, 3, 64, 114), (201, 2))"
     },
     "metadata": {},
     "execution_count": 31
    }
   ],
   "source": [
    "x_comb.shape,y_comb.shape"
   ]
  },
  {
   "cell_type": "markdown",
   "metadata": {},
   "source": [
    "# Test set"
   ]
  },
  {
   "cell_type": "code",
   "execution_count": 15,
   "metadata": {},
   "outputs": [],
   "source": [
    "test = glob.glob(os.path.join('new_zoom\\\\test_data', '*' ) )\n",
    "\n",
    "\n",
    "def mapper(lst,f):\n",
    "    return list(map(lambda x: f(x),lst))\n",
    "\n",
    "\n",
    "# set plugin = matplotlib'\n",
    "def preprocessimg(path):\n",
    "    img = io.imread(path,plugin='matplotlib')  \n",
    "    img = img/255\n",
    "    img = transform.resize(img,(64,114))\n",
    "    \n",
    "    # swap axes to make image from (224, 224, 3) to (3, 224, 224)\n",
    "    img = np.swapaxes(img, 0, 2)\n",
    "    img = np.swapaxes(img, 1, 2)\n",
    "    \n",
    "    return img\n",
    "\n",
    "\n",
    "def parser(img_dir_list):\n",
    "    np.random.shuffle(img_dir_list)\n",
    "\n",
    "    new_imgs=[]\n",
    "    new_labels = []   #, not relevant here as no labels\n",
    "\n",
    "    file_names = []\n",
    "    for img_path in img_dir_list:\n",
    "            img = preprocessimg(img_path)\n",
    "            new_imgs.append(img)\n",
    "\n",
    "            # label assignment\n",
    "            \n",
    "            file_name = img_path.split('\\\\')[-1].replace('.jpg','')\n",
    "            # file_names.append(file_name)\n",
    "\n",
    "            #second digit\n",
    "            if int(file_name[1]) not in [1,2,3,4]:\n",
    "                 new_labels.append(0)\n",
    "            else:\n",
    "                new_labels.append(1)\n",
    "\n",
    "    x_comb = np.array(new_imgs)\n",
    "\n",
    "    y_comb = np.eye(2,dtype='uint8')[mapper(new_labels,int)]\n",
    "    \n",
    "    return x_comb,y_comb"
   ]
  },
  {
   "cell_type": "code",
   "execution_count": 16,
   "metadata": {},
   "outputs": [],
   "source": [
    "xtest,ytest = parser(test)"
   ]
  },
  {
   "cell_type": "code",
   "execution_count": 21,
   "metadata": {},
   "outputs": [
    {
     "output_type": "execute_result",
     "data": {
      "text/plain": "((326, 3, 64, 114), (326, 2))"
     },
     "metadata": {},
     "execution_count": 21
    }
   ],
   "source": [
    "xtest.shape,ytest.shape"
   ]
  },
  {
   "cell_type": "code",
   "execution_count": 18,
   "metadata": {},
   "outputs": [],
   "source": [
    "from keras.preprocessing.image import ImageDataGenerator\n",
    "from keras.models import Sequential, model_from_json\n",
    "from keras.layers.core import Dense, Dropout, Activation, Flatten\n",
    "from keras.layers.convolutional import Conv2D\n",
    "from keras.layers.pooling import MaxPooling2D\n",
    "\n",
    "from keras.optimizers import SGD\n",
    "from keras.utils import np_utils\n",
    "from keras.callbacks import LearningRateScheduler, ModelCheckpoint\n",
    "from keras import backend as K\n",
    "K.set_image_data_format('channels_first')\n",
    "\n",
    "from keras.preprocessing.image import ImageDataGenerator\n",
    "from keras.models import Sequential, model_from_json\n",
    "from keras.layers.core import Dense, Dropout, Activation, Flatten\n",
    "from keras.layers.convolutional import Conv2D\n",
    "from keras.layers.pooling import MaxPooling2D\n",
    "\n",
    "from keras.optimizers import SGD\n",
    "from keras.utils import np_utils\n",
    "from keras.callbacks import LearningRateScheduler, ModelCheckpoint\n",
    "from keras import backend as K\n",
    "K.set_image_data_format('channels_first')\n",
    "\n",
    "import tensorflow as tf\n",
    "import keras.backend.tensorflow_backend as tfback"
   ]
  },
  {
   "cell_type": "code",
   "execution_count": 19,
   "metadata": {},
   "outputs": [],
   "source": [
    "from keras.preprocessing.image import ImageDataGenerator\n",
    "from keras.models import Sequential, model_from_json\n",
    "from keras.layers.core import Dense, Dropout, Activation, Flatten\n",
    "from keras.layers.convolutional import Conv2D\n",
    "from keras.layers.pooling import MaxPooling2D\n",
    "# import BatchNormalization\n",
    "from keras.layers.normalization import BatchNormalization\n",
    "\n",
    "\n",
    "from keras.optimizers import SGD\n",
    "from keras.utils import np_utils\n",
    "from keras.callbacks import LearningRateScheduler, ModelCheckpoint\n",
    "from keras import backend as K\n",
    "K.set_image_data_format('channels_first')\n",
    "\n",
    "import tensorflow as tf\n",
    "import keras.backend.tensorflow_backend as tfback"
   ]
  },
  {
   "cell_type": "code",
   "execution_count": 8,
   "metadata": {},
   "outputs": [
    {
     "output_type": "execute_result",
     "data": {
      "text/plain": "['/device:GPU:0']"
     },
     "metadata": {},
     "execution_count": 8
    }
   ],
   "source": [
    "def _get_available_gpus():\n",
    "    \"\"\"Get a list of available gpu devices (formatted as strings).\n",
    "\n",
    "    # Returns\n",
    "        A list of available GPU devices.\n",
    "    \"\"\"\n",
    "    #global _LOCAL_DEVICES\n",
    "    if tfback._LOCAL_DEVICES is None:\n",
    "        devices = tf.config.list_logical_devices()\n",
    "        tfback._LOCAL_DEVICES = [x.name for x in devices]\n",
    "    return [x for x in tfback._LOCAL_DEVICES if 'device:gpu' in x.lower()]\n",
    "\n",
    "tfback._get_available_gpus = _get_available_gpus\n",
    "tfback._get_available_gpus()"
   ]
  },
  {
   "cell_type": "markdown",
   "metadata": {},
   "source": [
    "# Model training & Eval"
   ]
  },
  {
   "cell_type": "code",
   "execution_count": 33,
   "metadata": {},
   "outputs": [],
   "source": [
    "from sklearn.model_selection import train_test_split\n",
    "\n",
    "X2_train, X2_val, Y2_train, Y2_val = train_test_split(x_comb, y_comb, test_size=0.2, random_state=42)\n",
    "\n",
    "datagen2 = ImageDataGenerator(featurewise_center=False, \n",
    "                            featurewise_std_normalization=False, \n",
    "                            width_shift_range=0.1,\n",
    "                            height_shift_range=0.1,\n",
    "                            zoom_range=0.2,\n",
    "                            shear_range=0.1,\n",
    "                            rotation_range=10.,)\n",
    "\n",
    "datagen2.fit(X2_train)"
   ]
  },
  {
   "cell_type": "code",
   "execution_count": 40,
   "metadata": {},
   "outputs": [
    {
     "output_type": "execute_result",
     "data": {
      "text/plain": "<matplotlib.image.AxesImage at 0x25db97e7c48>"
     },
     "metadata": {},
     "execution_count": 40
    },
    {
     "output_type": "display_data",
     "data": {
      "text/plain": "<Figure size 432x288 with 1 Axes>",
      "image/svg+xml": "<?xml version=\"1.0\" encoding=\"utf-8\" standalone=\"no\"?>\r\n<!DOCTYPE svg PUBLIC \"-//W3C//DTD SVG 1.1//EN\"\r\n  \"http://www.w3.org/Graphics/SVG/1.1/DTD/svg11.dtd\">\r\n<!-- Created with matplotlib (https://matplotlib.org/) -->\r\n<svg height=\"222.940781pt\" version=\"1.1\" viewBox=\"0 0 375.2875 222.940781\" width=\"375.2875pt\" xmlns=\"http://www.w3.org/2000/svg\" xmlns:xlink=\"http://www.w3.org/1999/xlink\">\r\n <defs>\r\n  <style type=\"text/css\">\r\n*{stroke-linecap:butt;stroke-linejoin:round;}\r\n  </style>\r\n </defs>\r\n <g id=\"figure_1\">\r\n  <g id=\"patch_1\">\r\n   <path d=\"M 0 222.940781 \r\nL 375.2875 222.940781 \r\nL 375.2875 0 \r\nL 0 0 \r\nz\r\n\" style=\"fill:none;\"/>\r\n  </g>\r\n  <g id=\"axes_1\">\r\n   <g id=\"patch_2\">\r\n    <path d=\"M 33.2875 199.062656 \r\nL 368.0875 199.062656 \r\nL 368.0875 10.737656 \r\nL 33.2875 10.737656 \r\nz\r\n\" style=\"fill:#ffffff;\"/>\r\n   </g>\r\n   <g clip-path=\"url(#p249ccac295)\">\r\n    <image height=\"189\" id=\"image53f628fab0\" transform=\"scale(1 -1)translate(0 -189)\" width=\"335\" x=\"33.2875\" xlink:href=\"data:image/png;base64,\r\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\" y=\"-10.062656\"/>\r\n   </g>\r\n   <g id=\"matplotlib.axis_1\">\r\n    <g id=\"xtick_1\">\r\n     <g id=\"line2d_1\">\r\n      <defs>\r\n       <path d=\"M 0 0 \r\nL 0 3.5 \r\n\" id=\"mc7307b2230\" style=\"stroke:#000000;stroke-width:0.8;\"/>\r\n      </defs>\r\n      <g>\r\n       <use style=\"stroke:#000000;stroke-width:0.8;\" x=\"33.549063\" xlink:href=\"#mc7307b2230\" y=\"199.062656\"/>\r\n      </g>\r\n     </g>\r\n     <g id=\"text_1\">\r\n      <!-- 0 -->\r\n      <defs>\r\n       <path d=\"M 31.78125 66.40625 \r\nQ 24.171875 66.40625 20.328125 58.90625 \r\nQ 16.5 51.421875 16.5 36.375 \r\nQ 16.5 21.390625 20.328125 13.890625 \r\nQ 24.171875 6.390625 31.78125 6.390625 \r\nQ 39.453125 6.390625 43.28125 13.890625 \r\nQ 47.125 21.390625 47.125 36.375 \r\nQ 47.125 51.421875 43.28125 58.90625 \r\nQ 39.453125 66.40625 31.78125 66.40625 \r\nz\r\nM 31.78125 74.21875 \r\nQ 44.046875 74.21875 50.515625 64.515625 \r\nQ 56.984375 54.828125 56.984375 36.375 \r\nQ 56.984375 17.96875 50.515625 8.265625 \r\nQ 44.046875 -1.421875 31.78125 -1.421875 \r\nQ 19.53125 -1.421875 13.0625 8.265625 \r\nQ 6.59375 17.96875 6.59375 36.375 \r\nQ 6.59375 54.828125 13.0625 64.515625 \r\nQ 19.53125 74.21875 31.78125 74.21875 \r\nz\r\n\" id=\"DejaVuSans-48\"/>\r\n      </defs>\r\n      <g transform=\"translate(30.367813 213.661094)scale(0.1 -0.1)\">\r\n       <use xlink:href=\"#DejaVuSans-48\"/>\r\n      </g>\r\n     </g>\r\n    </g>\r\n    <g id=\"xtick_2\">\r\n     <g id=\"line2d_2\">\r\n      <g>\r\n       <use style=\"stroke:#000000;stroke-width:0.8;\" x=\"85.861563\" xlink:href=\"#mc7307b2230\" y=\"199.062656\"/>\r\n      </g>\r\n     </g>\r\n     <g id=\"text_2\">\r\n      <!-- 100 -->\r\n      <defs>\r\n       <path d=\"M 12.40625 8.296875 \r\nL 28.515625 8.296875 \r\nL 28.515625 63.921875 \r\nL 10.984375 60.40625 \r\nL 10.984375 69.390625 \r\nL 28.421875 72.90625 \r\nL 38.28125 72.90625 \r\nL 38.28125 8.296875 \r\nL 54.390625 8.296875 \r\nL 54.390625 0 \r\nL 12.40625 0 \r\nz\r\n\" id=\"DejaVuSans-49\"/>\r\n      </defs>\r\n      <g transform=\"translate(76.317813 213.661094)scale(0.1 -0.1)\">\r\n       <use xlink:href=\"#DejaVuSans-49\"/>\r\n       <use x=\"63.623047\" xlink:href=\"#DejaVuSans-48\"/>\r\n       <use x=\"127.246094\" xlink:href=\"#DejaVuSans-48\"/>\r\n      </g>\r\n     </g>\r\n    </g>\r\n    <g id=\"xtick_3\">\r\n     <g id=\"line2d_3\">\r\n      <g>\r\n       <use style=\"stroke:#000000;stroke-width:0.8;\" x=\"138.174063\" xlink:href=\"#mc7307b2230\" y=\"199.062656\"/>\r\n      </g>\r\n     </g>\r\n     <g id=\"text_3\">\r\n      <!-- 200 -->\r\n      <defs>\r\n       <path d=\"M 19.1875 8.296875 \r\nL 53.609375 8.296875 \r\nL 53.609375 0 \r\nL 7.328125 0 \r\nL 7.328125 8.296875 \r\nQ 12.9375 14.109375 22.625 23.890625 \r\nQ 32.328125 33.6875 34.8125 36.53125 \r\nQ 39.546875 41.84375 41.421875 45.53125 \r\nQ 43.3125 49.21875 43.3125 52.78125 \r\nQ 43.3125 58.59375 39.234375 62.25 \r\nQ 35.15625 65.921875 28.609375 65.921875 \r\nQ 23.96875 65.921875 18.8125 64.3125 \r\nQ 13.671875 62.703125 7.8125 59.421875 \r\nL 7.8125 69.390625 \r\nQ 13.765625 71.78125 18.9375 73 \r\nQ 24.125 74.21875 28.421875 74.21875 \r\nQ 39.75 74.21875 46.484375 68.546875 \r\nQ 53.21875 62.890625 53.21875 53.421875 \r\nQ 53.21875 48.921875 51.53125 44.890625 \r\nQ 49.859375 40.875 45.40625 35.40625 \r\nQ 44.1875 33.984375 37.640625 27.21875 \r\nQ 31.109375 20.453125 19.1875 8.296875 \r\nz\r\n\" id=\"DejaVuSans-50\"/>\r\n      </defs>\r\n      <g transform=\"translate(128.630313 213.661094)scale(0.1 -0.1)\">\r\n       <use xlink:href=\"#DejaVuSans-50\"/>\r\n       <use x=\"63.623047\" xlink:href=\"#DejaVuSans-48\"/>\r\n       <use x=\"127.246094\" xlink:href=\"#DejaVuSans-48\"/>\r\n      </g>\r\n     </g>\r\n    </g>\r\n    <g id=\"xtick_4\">\r\n     <g id=\"line2d_4\">\r\n      <g>\r\n       <use style=\"stroke:#000000;stroke-width:0.8;\" x=\"190.486563\" xlink:href=\"#mc7307b2230\" y=\"199.062656\"/>\r\n      </g>\r\n     </g>\r\n     <g id=\"text_4\">\r\n      <!-- 300 -->\r\n      <defs>\r\n       <path d=\"M 40.578125 39.3125 \r\nQ 47.65625 37.796875 51.625 33 \r\nQ 55.609375 28.21875 55.609375 21.1875 \r\nQ 55.609375 10.40625 48.1875 4.484375 \r\nQ 40.765625 -1.421875 27.09375 -1.421875 \r\nQ 22.515625 -1.421875 17.65625 -0.515625 \r\nQ 12.796875 0.390625 7.625 2.203125 \r\nL 7.625 11.71875 \r\nQ 11.71875 9.328125 16.59375 8.109375 \r\nQ 21.484375 6.890625 26.8125 6.890625 \r\nQ 36.078125 6.890625 40.9375 10.546875 \r\nQ 45.796875 14.203125 45.796875 21.1875 \r\nQ 45.796875 27.640625 41.28125 31.265625 \r\nQ 36.765625 34.90625 28.71875 34.90625 \r\nL 20.21875 34.90625 \r\nL 20.21875 43.015625 \r\nL 29.109375 43.015625 \r\nQ 36.375 43.015625 40.234375 45.921875 \r\nQ 44.09375 48.828125 44.09375 54.296875 \r\nQ 44.09375 59.90625 40.109375 62.90625 \r\nQ 36.140625 65.921875 28.71875 65.921875 \r\nQ 24.65625 65.921875 20.015625 65.03125 \r\nQ 15.375 64.15625 9.8125 62.3125 \r\nL 9.8125 71.09375 \r\nQ 15.4375 72.65625 20.34375 73.4375 \r\nQ 25.25 74.21875 29.59375 74.21875 \r\nQ 40.828125 74.21875 47.359375 69.109375 \r\nQ 53.90625 64.015625 53.90625 55.328125 \r\nQ 53.90625 49.265625 50.4375 45.09375 \r\nQ 46.96875 40.921875 40.578125 39.3125 \r\nz\r\n\" id=\"DejaVuSans-51\"/>\r\n      </defs>\r\n      <g transform=\"translate(180.942813 213.661094)scale(0.1 -0.1)\">\r\n       <use xlink:href=\"#DejaVuSans-51\"/>\r\n       <use x=\"63.623047\" xlink:href=\"#DejaVuSans-48\"/>\r\n       <use x=\"127.246094\" xlink:href=\"#DejaVuSans-48\"/>\r\n      </g>\r\n     </g>\r\n    </g>\r\n    <g id=\"xtick_5\">\r\n     <g id=\"line2d_5\">\r\n      <g>\r\n       <use style=\"stroke:#000000;stroke-width:0.8;\" x=\"242.799063\" xlink:href=\"#mc7307b2230\" y=\"199.062656\"/>\r\n      </g>\r\n     </g>\r\n     <g id=\"text_5\">\r\n      <!-- 400 -->\r\n      <defs>\r\n       <path d=\"M 37.796875 64.3125 \r\nL 12.890625 25.390625 \r\nL 37.796875 25.390625 \r\nz\r\nM 35.203125 72.90625 \r\nL 47.609375 72.90625 \r\nL 47.609375 25.390625 \r\nL 58.015625 25.390625 \r\nL 58.015625 17.1875 \r\nL 47.609375 17.1875 \r\nL 47.609375 0 \r\nL 37.796875 0 \r\nL 37.796875 17.1875 \r\nL 4.890625 17.1875 \r\nL 4.890625 26.703125 \r\nz\r\n\" id=\"DejaVuSans-52\"/>\r\n      </defs>\r\n      <g transform=\"translate(233.255313 213.661094)scale(0.1 -0.1)\">\r\n       <use xlink:href=\"#DejaVuSans-52\"/>\r\n       <use x=\"63.623047\" xlink:href=\"#DejaVuSans-48\"/>\r\n       <use x=\"127.246094\" xlink:href=\"#DejaVuSans-48\"/>\r\n      </g>\r\n     </g>\r\n    </g>\r\n    <g id=\"xtick_6\">\r\n     <g id=\"line2d_6\">\r\n      <g>\r\n       <use style=\"stroke:#000000;stroke-width:0.8;\" x=\"295.111563\" xlink:href=\"#mc7307b2230\" y=\"199.062656\"/>\r\n      </g>\r\n     </g>\r\n     <g id=\"text_6\">\r\n      <!-- 500 -->\r\n      <defs>\r\n       <path d=\"M 10.796875 72.90625 \r\nL 49.515625 72.90625 \r\nL 49.515625 64.59375 \r\nL 19.828125 64.59375 \r\nL 19.828125 46.734375 \r\nQ 21.96875 47.46875 24.109375 47.828125 \r\nQ 26.265625 48.1875 28.421875 48.1875 \r\nQ 40.625 48.1875 47.75 41.5 \r\nQ 54.890625 34.8125 54.890625 23.390625 \r\nQ 54.890625 11.625 47.5625 5.09375 \r\nQ 40.234375 -1.421875 26.90625 -1.421875 \r\nQ 22.3125 -1.421875 17.546875 -0.640625 \r\nQ 12.796875 0.140625 7.71875 1.703125 \r\nL 7.71875 11.625 \r\nQ 12.109375 9.234375 16.796875 8.0625 \r\nQ 21.484375 6.890625 26.703125 6.890625 \r\nQ 35.15625 6.890625 40.078125 11.328125 \r\nQ 45.015625 15.765625 45.015625 23.390625 \r\nQ 45.015625 31 40.078125 35.4375 \r\nQ 35.15625 39.890625 26.703125 39.890625 \r\nQ 22.75 39.890625 18.8125 39.015625 \r\nQ 14.890625 38.140625 10.796875 36.28125 \r\nz\r\n\" id=\"DejaVuSans-53\"/>\r\n      </defs>\r\n      <g transform=\"translate(285.567813 213.661094)scale(0.1 -0.1)\">\r\n       <use xlink:href=\"#DejaVuSans-53\"/>\r\n       <use x=\"63.623047\" xlink:href=\"#DejaVuSans-48\"/>\r\n       <use x=\"127.246094\" xlink:href=\"#DejaVuSans-48\"/>\r\n      </g>\r\n     </g>\r\n    </g>\r\n    <g id=\"xtick_7\">\r\n     <g id=\"line2d_7\">\r\n      <g>\r\n       <use style=\"stroke:#000000;stroke-width:0.8;\" x=\"347.424063\" xlink:href=\"#mc7307b2230\" y=\"199.062656\"/>\r\n      </g>\r\n     </g>\r\n     <g id=\"text_7\">\r\n      <!-- 600 -->\r\n      <defs>\r\n       <path d=\"M 33.015625 40.375 \r\nQ 26.375 40.375 22.484375 35.828125 \r\nQ 18.609375 31.296875 18.609375 23.390625 \r\nQ 18.609375 15.53125 22.484375 10.953125 \r\nQ 26.375 6.390625 33.015625 6.390625 \r\nQ 39.65625 6.390625 43.53125 10.953125 \r\nQ 47.40625 15.53125 47.40625 23.390625 \r\nQ 47.40625 31.296875 43.53125 35.828125 \r\nQ 39.65625 40.375 33.015625 40.375 \r\nz\r\nM 52.59375 71.296875 \r\nL 52.59375 62.3125 \r\nQ 48.875 64.0625 45.09375 64.984375 \r\nQ 41.3125 65.921875 37.59375 65.921875 \r\nQ 27.828125 65.921875 22.671875 59.328125 \r\nQ 17.53125 52.734375 16.796875 39.40625 \r\nQ 19.671875 43.65625 24.015625 45.921875 \r\nQ 28.375 48.1875 33.59375 48.1875 \r\nQ 44.578125 48.1875 50.953125 41.515625 \r\nQ 57.328125 34.859375 57.328125 23.390625 \r\nQ 57.328125 12.15625 50.6875 5.359375 \r\nQ 44.046875 -1.421875 33.015625 -1.421875 \r\nQ 20.359375 -1.421875 13.671875 8.265625 \r\nQ 6.984375 17.96875 6.984375 36.375 \r\nQ 6.984375 53.65625 15.1875 63.9375 \r\nQ 23.390625 74.21875 37.203125 74.21875 \r\nQ 40.921875 74.21875 44.703125 73.484375 \r\nQ 48.484375 72.75 52.59375 71.296875 \r\nz\r\n\" id=\"DejaVuSans-54\"/>\r\n      </defs>\r\n      <g transform=\"translate(337.880313 213.661094)scale(0.1 -0.1)\">\r\n       <use xlink:href=\"#DejaVuSans-54\"/>\r\n       <use x=\"63.623047\" xlink:href=\"#DejaVuSans-48\"/>\r\n       <use x=\"127.246094\" xlink:href=\"#DejaVuSans-48\"/>\r\n      </g>\r\n     </g>\r\n    </g>\r\n   </g>\r\n   <g id=\"matplotlib.axis_2\">\r\n    <g id=\"ytick_1\">\r\n     <g id=\"line2d_8\">\r\n      <defs>\r\n       <path d=\"M 0 0 \r\nL -3.5 0 \r\n\" id=\"m6cf4027ea9\" style=\"stroke:#000000;stroke-width:0.8;\"/>\r\n      </defs>\r\n      <g>\r\n       <use style=\"stroke:#000000;stroke-width:0.8;\" x=\"33.2875\" xlink:href=\"#m6cf4027ea9\" y=\"10.999219\"/>\r\n      </g>\r\n     </g>\r\n     <g id=\"text_8\">\r\n      <!-- 0 -->\r\n      <g transform=\"translate(19.925 14.798438)scale(0.1 -0.1)\">\r\n       <use xlink:href=\"#DejaVuSans-48\"/>\r\n      </g>\r\n     </g>\r\n    </g>\r\n    <g id=\"ytick_2\">\r\n     <g id=\"line2d_9\">\r\n      <g>\r\n       <use style=\"stroke:#000000;stroke-width:0.8;\" x=\"33.2875\" xlink:href=\"#m6cf4027ea9\" y=\"37.155469\"/>\r\n      </g>\r\n     </g>\r\n     <g id=\"text_9\">\r\n      <!-- 50 -->\r\n      <g transform=\"translate(13.5625 40.954688)scale(0.1 -0.1)\">\r\n       <use xlink:href=\"#DejaVuSans-53\"/>\r\n       <use x=\"63.623047\" xlink:href=\"#DejaVuSans-48\"/>\r\n      </g>\r\n     </g>\r\n    </g>\r\n    <g id=\"ytick_3\">\r\n     <g id=\"line2d_10\">\r\n      <g>\r\n       <use style=\"stroke:#000000;stroke-width:0.8;\" x=\"33.2875\" xlink:href=\"#m6cf4027ea9\" y=\"63.311719\"/>\r\n      </g>\r\n     </g>\r\n     <g id=\"text_10\">\r\n      <!-- 100 -->\r\n      <g transform=\"translate(7.2 67.110938)scale(0.1 -0.1)\">\r\n       <use xlink:href=\"#DejaVuSans-49\"/>\r\n       <use x=\"63.623047\" xlink:href=\"#DejaVuSans-48\"/>\r\n       <use x=\"127.246094\" xlink:href=\"#DejaVuSans-48\"/>\r\n      </g>\r\n     </g>\r\n    </g>\r\n    <g id=\"ytick_4\">\r\n     <g id=\"line2d_11\">\r\n      <g>\r\n       <use style=\"stroke:#000000;stroke-width:0.8;\" x=\"33.2875\" xlink:href=\"#m6cf4027ea9\" y=\"89.467969\"/>\r\n      </g>\r\n     </g>\r\n     <g id=\"text_11\">\r\n      <!-- 150 -->\r\n      <g transform=\"translate(7.2 93.267188)scale(0.1 -0.1)\">\r\n       <use xlink:href=\"#DejaVuSans-49\"/>\r\n       <use x=\"63.623047\" xlink:href=\"#DejaVuSans-53\"/>\r\n       <use x=\"127.246094\" xlink:href=\"#DejaVuSans-48\"/>\r\n      </g>\r\n     </g>\r\n    </g>\r\n    <g id=\"ytick_5\">\r\n     <g id=\"line2d_12\">\r\n      <g>\r\n       <use style=\"stroke:#000000;stroke-width:0.8;\" x=\"33.2875\" xlink:href=\"#m6cf4027ea9\" y=\"115.624219\"/>\r\n      </g>\r\n     </g>\r\n     <g id=\"text_12\">\r\n      <!-- 200 -->\r\n      <g transform=\"translate(7.2 119.423438)scale(0.1 -0.1)\">\r\n       <use xlink:href=\"#DejaVuSans-50\"/>\r\n       <use x=\"63.623047\" xlink:href=\"#DejaVuSans-48\"/>\r\n       <use x=\"127.246094\" xlink:href=\"#DejaVuSans-48\"/>\r\n      </g>\r\n     </g>\r\n    </g>\r\n    <g id=\"ytick_6\">\r\n     <g id=\"line2d_13\">\r\n      <g>\r\n       <use style=\"stroke:#000000;stroke-width:0.8;\" x=\"33.2875\" xlink:href=\"#m6cf4027ea9\" y=\"141.780469\"/>\r\n      </g>\r\n     </g>\r\n     <g id=\"text_13\">\r\n      <!-- 250 -->\r\n      <g transform=\"translate(7.2 145.579688)scale(0.1 -0.1)\">\r\n       <use xlink:href=\"#DejaVuSans-50\"/>\r\n       <use x=\"63.623047\" xlink:href=\"#DejaVuSans-53\"/>\r\n       <use x=\"127.246094\" xlink:href=\"#DejaVuSans-48\"/>\r\n      </g>\r\n     </g>\r\n    </g>\r\n    <g id=\"ytick_7\">\r\n     <g id=\"line2d_14\">\r\n      <g>\r\n       <use style=\"stroke:#000000;stroke-width:0.8;\" x=\"33.2875\" xlink:href=\"#m6cf4027ea9\" y=\"167.936719\"/>\r\n      </g>\r\n     </g>\r\n     <g id=\"text_14\">\r\n      <!-- 300 -->\r\n      <g transform=\"translate(7.2 171.735938)scale(0.1 -0.1)\">\r\n       <use xlink:href=\"#DejaVuSans-51\"/>\r\n       <use x=\"63.623047\" xlink:href=\"#DejaVuSans-48\"/>\r\n       <use x=\"127.246094\" xlink:href=\"#DejaVuSans-48\"/>\r\n      </g>\r\n     </g>\r\n    </g>\r\n    <g id=\"ytick_8\">\r\n     <g id=\"line2d_15\">\r\n      <g>\r\n       <use style=\"stroke:#000000;stroke-width:0.8;\" x=\"33.2875\" xlink:href=\"#m6cf4027ea9\" y=\"194.092969\"/>\r\n      </g>\r\n     </g>\r\n     <g id=\"text_15\">\r\n      <!-- 350 -->\r\n      <g transform=\"translate(7.2 197.892188)scale(0.1 -0.1)\">\r\n       <use xlink:href=\"#DejaVuSans-51\"/>\r\n       <use x=\"63.623047\" xlink:href=\"#DejaVuSans-53\"/>\r\n       <use x=\"127.246094\" xlink:href=\"#DejaVuSans-48\"/>\r\n      </g>\r\n     </g>\r\n    </g>\r\n   </g>\r\n   <g id=\"patch_3\">\r\n    <path d=\"M 33.2875 199.062656 \r\nL 33.2875 10.737656 \r\n\" style=\"fill:none;stroke:#000000;stroke-linecap:square;stroke-linejoin:miter;stroke-width:0.8;\"/>\r\n   </g>\r\n   <g id=\"patch_4\">\r\n    <path d=\"M 368.0875 199.062656 \r\nL 368.0875 10.737656 \r\n\" style=\"fill:none;stroke:#000000;stroke-linecap:square;stroke-linejoin:miter;stroke-width:0.8;\"/>\r\n   </g>\r\n   <g id=\"patch_5\">\r\n    <path d=\"M 33.2875 199.062656 \r\nL 368.0875 199.062656 \r\n\" style=\"fill:none;stroke:#000000;stroke-linecap:square;stroke-linejoin:miter;stroke-width:0.8;\"/>\r\n   </g>\r\n   <g id=\"patch_6\">\r\n    <path d=\"M 33.2875 10.737656 \r\nL 368.0875 10.737656 \r\n\" style=\"fill:none;stroke:#000000;stroke-linecap:square;stroke-linejoin:miter;stroke-width:0.8;\"/>\r\n   </g>\r\n  </g>\r\n </g>\r\n <defs>\r\n  <clipPath id=\"p249ccac295\">\r\n   <rect height=\"188.325\" width=\"334.8\" x=\"33.2875\" y=\"10.737656\"/>\r\n  </clipPath>\r\n </defs>\r\n</svg>\r\n",
      "image/png": "[encoded data removed]"
     },
     "metadata": {
      "needs_background": "light"
     }
    }
   ],
   "source": [
    "import matplotlib.pyplot as plt\n",
    "\n",
    "plt.imshow(io.imread(all_white_imgs[0]))"
   ]
  },
  {
   "cell_type": "code",
   "execution_count": null,
   "metadata": {},
   "outputs": [],
   "source": []
  },
  {
   "cell_type": "code",
   "execution_count": 73,
   "metadata": {
    "tags": []
   },
   "outputs": [
    {
     "output_type": "stream",
     "name": "stdout",
     "text": "Epoch 1/10\n160/160 [==============================] - 27s 171ms/step - loss: 0.7382 - auc_20: 0.6072 - val_loss: 0.6976 - val_auc_20: 0.6240\nEpoch 2/10\n160/160 [==============================] - 27s 169ms/step - loss: 0.6941 - auc_20: 0.5926 - val_loss: 0.6930 - val_auc_20: 0.5761\nEpoch 3/10\n160/160 [==============================] - 29s 182ms/step - loss: 0.6936 - auc_20: 0.5632 - val_loss: 0.6932 - val_auc_20: 0.5527\nEpoch 4/10\n160/160 [==============================] - 30s 186ms/step - loss: 0.6937 - auc_20: 0.5450 - val_loss: 0.6931 - val_auc_20: 0.5378\nEpoch 5/10\n160/160 [==============================] - 29s 183ms/step - loss: 0.6934 - auc_20: 0.5330 - val_loss: 0.6931 - val_auc_20: 0.5286\nEpoch 6/10\n160/160 [==============================] - 29s 183ms/step - loss: 0.6934 - auc_20: 0.5250 - val_loss: 0.6931 - val_auc_20: 0.5222\nEpoch 7/10\n160/160 [==============================] - 29s 183ms/step - loss: 0.6936 - auc_20: 0.5191 - val_loss: 0.6932 - val_auc_20: 0.5166\nEpoch 8/10\n160/160 [==============================] - 30s 185ms/step - loss: 0.6934 - auc_20: 0.5145 - val_loss: 0.6931 - val_auc_20: 0.5129\nEpoch 9/10\n160/160 [==============================] - 30s 185ms/step - loss: 0.6932 - auc_20: 0.5122 - val_loss: 0.6931 - val_auc_20: 0.5111\nEpoch 10/10\n160/160 [==============================] - 31s 195ms/step - loss: 0.6935 - auc_20: 0.5095 - val_loss: 0.6932 - val_auc_20: 0.5082\n"
    }
   ],
   "source": [
    "def deep_model2():\n",
    "    model = Sequential()\n",
    "\n",
    "    # 1st convblock\n",
    "    model.add(Conv2D(32, (5, 5), padding='same',\n",
    "                     input_shape=(3, 64,114),\n",
    "                     activation='relu'))\n",
    "    model.add(Conv2D(32, (5, 5), activation='relu'))\n",
    "    model.add(MaxPooling2D(pool_size=(2, 2)))\n",
    "    model.add(Dropout(0.2))\n",
    "    \n",
    "    \n",
    "    # 2nd conv block\n",
    "    model.add(Conv2D(64, (5, 5), padding='same',\n",
    "                     activation='relu'))\n",
    "    model.add(Conv2D(64, (5, 5), activation='relu'))\n",
    "    model.add(MaxPooling2D(pool_size=(2, 2)))\n",
    "    model.add(Dropout(0.2))\n",
    "   \n",
    "\n",
    "    # 3rd conv block\n",
    "    model.add(Conv2D(128, (5, 5), padding='same',\n",
    "                     activation='relu'))\n",
    "    model.add(Conv2D(128, (5, 5), activation='relu'))\n",
    "    model.add(MaxPooling2D(pool_size=(2, 2)))\n",
    "    model.add(Dropout(0.2))\n",
    "    \n",
    "    # 4rd conv block \n",
    "    model.add(Flatten())\n",
    "    model.add(Dense(230, activation='relu'))\n",
    "    model.add(Dropout(0.3))\n",
    "    model.add(Dense(2, activation='softmax'))\n",
    "    \n",
    "    return model\n",
    "\n",
    "\n",
    "with tf.device('/GPU:0'):\n",
    "    model4 = deep_model2()\n",
    "    # let's train the model using SGD + momentum (how original)\n",
    "\n",
    "    lr = 0.01\n",
    "    sgd = SGD(lr=lr, decay=1e-6, momentum=0.9, nesterov=True)\n",
    "\n",
    "\n",
    "    # compile model\n",
    "    model4.compile(loss='categorical_crossentropy',\n",
    "              optimizer=sgd,\n",
    "              metrics=[tf.keras.metrics.AUC()])\n",
    "\n",
    "\n",
    "    model4_hist = model4.fit_generator( datagen2.flow(X2_train, Y2_train, batch_size=32),\n",
    "                                    steps_per_epoch=X2_train.shape[0],\n",
    "                                    epochs=10,\n",
    "                                    validation_data=(X2_val, Y2_val),\n",
    "                                    callbacks=[LearningRateScheduler(lr_schedule),\n",
    "                                               ModelCheckpoint('model4.h5',save_best_only=True)] )"
   ]
  },
  {
   "cell_type": "code",
   "execution_count": 74,
   "metadata": {
    "tags": []
   },
   "outputs": [
    {
     "output_type": "stream",
     "name": "stdout",
     "text": "326/326 [==============================] - 0s 1ms/step\n"
    },
    {
     "output_type": "execute_result",
     "data": {
      "text/plain": "[0.6939948468120551, 0.5081462264060974]"
     },
     "metadata": {},
     "execution_count": 74
    }
   ],
   "source": [
    "model4.evaluate( xtest, ytest , verbose=1 )"
   ]
  },
  {
   "cell_type": "code",
   "execution_count": 41,
   "metadata": {
    "tags": []
   },
   "outputs": [
    {
     "output_type": "stream",
     "name": "stdout",
     "text": "Epoch 1/10\n160/160 [==============================] - 24s 153ms/step - loss: 0.4845 - auc_5: 0.6422 - val_loss: 1.8821 - val_auc_5: 0.8409\nEpoch 2/10\n160/160 [==============================] - 23s 146ms/step - loss: 5.6513e-04 - auc_5: 0.9192 - val_loss: 2.4225e-05 - val_auc_5: 0.9588\nEpoch 3/10\n160/160 [==============================] - 26s 162ms/step - loss: 9.4940e-05 - auc_5: 0.9722 - val_loss: 4.5154e-06 - val_auc_5: 0.9811\nEpoch 4/10\n160/160 [==============================] - 29s 181ms/step - loss: 6.8123e-05 - auc_5: 0.9857 - val_loss: 1.7213e-06 - val_auc_5: 0.9891\nEpoch 5/10\n160/160 [==============================] - 26s 165ms/step - loss: 6.5823e-05 - auc_5: 0.9912 - val_loss: 1.0874e-06 - val_auc_5: 0.9928\nEpoch 6/10\n160/160 [==============================] - 28s 173ms/step - loss: 3.1433e-05 - auc_5: 0.9939 - val_loss: 6.8327e-07 - val_auc_5: 0.9949\nEpoch 7/10\n160/160 [==============================] - 28s 174ms/step - loss: 3.0836e-05 - auc_5: 0.9956 - val_loss: 7.4142e-07 - val_auc_5: 0.9961\nEpoch 8/10\n160/160 [==============================] - 27s 168ms/step - loss: 2.6931e-05 - auc_5: 0.9966 - val_loss: 1.1456e-06 - val_auc_5: 0.9970\nEpoch 9/10\n160/160 [==============================] - 27s 166ms/step - loss: 2.9171e-05 - auc_5: 0.9973 - val_loss: 8.7517e-07 - val_auc_5: 0.9975\nEpoch 10/10\n160/160 [==============================] - 26s 164ms/step - loss: 1.6586e-05 - auc_5: 0.9978 - val_loss: 3.7507e-07 - val_auc_5: 0.9980\n"
    }
   ],
   "source": [
    "def deep_model2():\n",
    "    model = Sequential()\n",
    "\n",
    "    # 1st convblock\n",
    "    model.add(Conv2D(32, (5, 5), padding='same',\n",
    "                     input_shape=(3, 64,114),\n",
    "                     activation='relu'))\n",
    "    model.add(Conv2D(32, (5, 5), activation='relu'))\n",
    "    model.add(MaxPooling2D(pool_size=(4, 4)))\n",
    "    model.add(BatchNormalization())\n",
    "    #model.add(Dropout(0.2))\n",
    "    \n",
    "    \n",
    "    # 2nd conv block\n",
    "    model.add(Conv2D(64, (5, 5), padding='same',\n",
    "                     activation='relu'))\n",
    "    model.add(Conv2D(64, (5, 5), activation='relu'))\n",
    "    model.add(MaxPooling2D(pool_size=(4, 4)))\n",
    "    model.add(BatchNormalization())\n",
    "    model.add(Dropout(0.2))\n",
    "   \n",
    "    \n",
    "    # 4rd conv block \n",
    "    model.add(Flatten())\n",
    "    model.add(Dense(512, activation='relu'))\n",
    "    model.add(Dropout(0.2))\n",
    "    model.add(Dense(2, activation='softmax'))\n",
    "    \n",
    "    return model\n",
    "\n",
    "\n",
    "def lr_schedule(epoch):\n",
    "    return lr*(0.1**int(epoch/10))\n",
    "\n",
    "\n",
    "with tf.device('/GPU:0'):\n",
    "    model4 = deep_model2()\n",
    "    # let's train the model using SGD + momentum (how original)\n",
    "\n",
    "    lr = 0.01\n",
    "    sgd = SGD(lr=lr, decay=1e-6, momentum=0.9, nesterov=True)\n",
    "\n",
    "\n",
    "    # compile model\n",
    "    model4.compile(loss='categorical_crossentropy',\n",
    "              optimizer=sgd,\n",
    "              metrics=[tf.keras.metrics.AUC()])\n",
    "\n",
    "\n",
    "    model4_hist = model4.fit_generator( datagen2.flow(X2_train, Y2_train, batch_size=32),\n",
    "                                    steps_per_epoch=X2_train.shape[0],\n",
    "                                    epochs=10,\n",
    "                                    validation_data=(X2_val, Y2_val),\n",
    "                                    callbacks=[LearningRateScheduler(lr_schedule),\n",
    "                                               ModelCheckpoint('model4.h5',save_best_only=True)] )"
   ]
  },
  {
   "cell_type": "code",
   "execution_count": 44,
   "metadata": {
    "tags": []
   },
   "outputs": [
    {
     "output_type": "stream",
     "name": "stdout",
     "text": "326/326 [==============================] - 0s 906us/step\n"
    },
    {
     "output_type": "execute_result",
     "data": {
      "text/plain": "[8.726268528429276, 0.9922192096710205]"
     },
     "metadata": {},
     "execution_count": 44
    }
   ],
   "source": [
    "model4.evaluate( xtest, ytest , verbose=1 )"
   ]
  },
  {
   "cell_type": "code",
   "execution_count": 45,
   "metadata": {
    "tags": []
   },
   "outputs": [
    {
     "output_type": "stream",
     "name": "stdout",
     "text": "Model: \"sequential_7\"\n_________________________________________________________________\nLayer (type)                 Output Shape              Param #   \n=================================================================\nconv2d_29 (Conv2D)           (None, 32, 64, 114)       2432      \n_________________________________________________________________\nconv2d_30 (Conv2D)           (None, 32, 60, 110)       25632     \n_________________________________________________________________\nmax_pooling2d_15 (MaxPooling (None, 32, 15, 27)        0         \n_________________________________________________________________\nbatch_normalization_4 (Batch (None, 32, 15, 27)        108       \n_________________________________________________________________\nconv2d_31 (Conv2D)           (None, 64, 15, 27)        51264     \n_________________________________________________________________\nconv2d_32 (Conv2D)           (None, 64, 11, 23)        102464    \n_________________________________________________________________\nmax_pooling2d_16 (MaxPooling (None, 64, 2, 5)          0         \n_________________________________________________________________\nbatch_normalization_5 (Batch (None, 64, 2, 5)          20        \n_________________________________________________________________\ndropout_19 (Dropout)         (None, 64, 2, 5)          0         \n_________________________________________________________________\nflatten_7 (Flatten)          (None, 640)               0         \n_________________________________________________________________\ndense_13 (Dense)             (None, 512)               328192    \n_________________________________________________________________\ndropout_20 (Dropout)         (None, 512)               0         \n_________________________________________________________________\ndense_14 (Dense)             (None, 2)                 1026      \n=================================================================\nTotal params: 511,138\nTrainable params: 511,074\nNon-trainable params: 64\n_________________________________________________________________\n"
    }
   ],
   "source": [
    "model4.summary()"
   ]
  },
  {
   "cell_type": "code",
   "execution_count": null,
   "metadata": {},
   "outputs": [],
   "source": [
    "# dropped alot of Conv2dlayers\n",
    "increased size of pooling to (4,4)"
   ]
  },
  {
   "cell_type": "markdown",
   "metadata": {},
   "source": [
    "# dropping conv2d layer 2 auroc gg"
   ]
  },
  {
   "cell_type": "code",
   "execution_count": 68,
   "metadata": {
    "tags": []
   },
   "outputs": [
    {
     "output_type": "stream",
     "name": "stdout",
     "text": "Epoch 1/10\n160/160 [==============================] - 25s 157ms/step - loss: 0.4915 - auc_18: 0.7802 - val_loss: 0.0550 - val_auc_18: 0.9367\nEpoch 2/10\n160/160 [==============================] - 26s 161ms/step - loss: 0.0097 - auc_18: 0.9618 - val_loss: 0.0369 - val_auc_18: 0.9759\nEpoch 3/10\n160/160 [==============================] - 28s 173ms/step - loss: 0.0041 - auc_18: 0.9817 - val_loss: 0.3159 - val_auc_18: 0.9858\nEpoch 4/10\n160/160 [==============================] - 26s 164ms/step - loss: 0.0017 - auc_18: 0.9883 - val_loss: 1.6118 - val_auc_18: 0.9900\nEpoch 5/10\n160/160 [==============================] - 27s 168ms/step - loss: 0.0016 - auc_18: 0.9913 - val_loss: 0.0381 - val_auc_18: 0.9924\nEpoch 6/10\n160/160 [==============================] - 29s 183ms/step - loss: 2.7960e-04 - auc_18: 0.9933 - val_loss: 0.0842 - val_auc_18: 0.9939\nEpoch 7/10\n160/160 [==============================] - 30s 189ms/step - loss: 0.0012 - auc_18: 0.9945 - val_loss: 0.0887 - val_auc_18: 0.9950\nEpoch 8/10\n160/160 [==============================] - 28s 175ms/step - loss: 0.0015 - auc_18: 0.9953 - val_loss: 1.3495 - val_auc_18: 0.9957\nEpoch 9/10\n160/160 [==============================] - 31s 195ms/step - loss: 1.8384e-04 - auc_18: 0.9959 - val_loss: 0.0609 - val_auc_18: 0.9962\nEpoch 10/10\n160/160 [==============================] - 28s 172ms/step - loss: 8.2950e-05 - auc_18: 0.9964 - val_loss: 0.0058 - val_auc_18: 0.9966\n"
    }
   ],
   "source": [
    "def deep_model3():\n",
    "    model = Sequential()\n",
    "\n",
    "    # 1st convblock\n",
    "    model.add(Conv2D(32, (5, 5), padding='same',\n",
    "                     input_shape=(3, 64,114),\n",
    "                     activation='relu'))\n",
    "    model.add(MaxPooling2D(pool_size=(4, 4)))\n",
    "    model.add(BatchNormalization())\n",
    "    model.add(Dropout(0.2))\n",
    "    \n",
    "    \n",
    "    # 2nd conv block\n",
    "    model.add(Conv2D(64, (5, 5), padding='same',\n",
    "                     activation='relu'))\n",
    "    model.add(MaxPooling2D(pool_size=(4, 4)))\n",
    "    model.add(BatchNormalization())\n",
    "    model.add(Dropout(0.2))\n",
    "   \n",
    "    \n",
    "    # 4rd conv block \n",
    "    model.add(Flatten())\n",
    "    model.add(Dropout(0.2))\n",
    "    model.add(Dense(2, activation='softmax'))\n",
    "    \n",
    "    return model\n",
    "\n",
    "\n",
    "def lr_schedule(epoch):\n",
    "    return lr*(0.1**int(epoch/10))\n",
    "\n",
    "\n",
    "with tf.device('/GPU:0'):\n",
    "    model5 = deep_model3()\n",
    "    # let's train the model using SGD + momentum (how original)\n",
    "\n",
    "    lr = 0.01\n",
    "    sgd = SGD(lr=lr, decay=1e-6, momentum=0.9, nesterov=True)\n",
    "\n",
    "\n",
    "    # compile model\n",
    "    model5.compile(loss='categorical_crossentropy',\n",
    "              optimizer=sgd,\n",
    "              metrics=[tf.keras.metrics.AUC()])\n",
    "\n",
    "\n",
    "    model5_hist = model5.fit_generator( datagen2.flow(X2_train, Y2_train, batch_size=32),\n",
    "                                    steps_per_epoch = X2_train.shape[0],\n",
    "                                    epochs = 10,\n",
    "                                    validation_data = (X2_val, Y2_val),\n",
    "                                    callbacks=[LearningRateScheduler(lr_schedule),\n",
    "                                               ModelCheckpoint('model5.h5',save_best_only=True)] )\n",
    "\n"
   ]
  },
  {
   "cell_type": "code",
   "execution_count": 69,
   "metadata": {
    "tags": []
   },
   "outputs": [
    {
     "output_type": "stream",
     "name": "stdout",
     "text": "326/326 [==============================] - 0s 728us/step\n"
    },
    {
     "output_type": "execute_result",
     "data": {
      "text/plain": "[2.419453955866808, 0.9963985085487366]"
     },
     "metadata": {},
     "execution_count": 69
    }
   ],
   "source": [
    "model5.evaluate( xtest, ytest , verbose=1 )"
   ]
  },
  {
   "cell_type": "code",
   "execution_count": 70,
   "metadata": {
    "tags": []
   },
   "outputs": [
    {
     "output_type": "stream",
     "name": "stdout",
     "text": "Model: \"sequential_20\"\n_________________________________________________________________\nLayer (type)                 Output Shape              Param #   \n=================================================================\nconv2d_58 (Conv2D)           (None, 32, 64, 114)       2432      \n_________________________________________________________________\nmax_pooling2d_36 (MaxPooling (None, 32, 16, 28)        0         \n_________________________________________________________________\nbatch_normalization_25 (Batc (None, 32, 16, 28)        112       \n_________________________________________________________________\ndropout_45 (Dropout)         (None, 32, 16, 28)        0         \n_________________________________________________________________\nconv2d_59 (Conv2D)           (None, 64, 16, 28)        51264     \n_________________________________________________________________\nmax_pooling2d_37 (MaxPooling (None, 64, 4, 7)          0         \n_________________________________________________________________\nbatch_normalization_26 (Batc (None, 64, 4, 7)          28        \n_________________________________________________________________\ndropout_46 (Dropout)         (None, 64, 4, 7)          0         \n_________________________________________________________________\nflatten_20 (Flatten)         (None, 1792)              0         \n_________________________________________________________________\ndropout_47 (Dropout)         (None, 1792)              0         \n_________________________________________________________________\ndense_34 (Dense)             (None, 2)                 3586      \n=================================================================\nTotal params: 57,422\nTrainable params: 57,352\nNon-trainable params: 70\n_________________________________________________________________\n"
    }
   ],
   "source": [
    "model5.summary()"
   ]
  },
  {
   "cell_type": "code",
   "execution_count": null,
   "metadata": {},
   "outputs": [],
   "source": []
  }
 ],
 "metadata": {
  "kernelspec": {
   "display_name": "Python 3",
   "language": "python",
   "name": "python3"
  },
  "language_info": {
   "codemirror_mode": {
    "name": "ipython",
    "version": 3
   },
   "file_extension": ".py",
   "mimetype": "text/x-python",
   "name": "python",
   "nbconvert_exporter": "python",
   "pygments_lexer": "ipython3",
   "version": "3.7.7"
  }
 },
 "nbformat": 4,
 "nbformat_minor": 4
}